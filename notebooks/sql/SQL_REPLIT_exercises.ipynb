{
 "cells": [
  {
   "cell_type": "code",
   "execution_count": 1,
   "metadata": {},
   "outputs": [],
   "source": [
    "import sqlite3"
   ]
  },
  {
   "cell_type": "code",
   "execution_count": 2,
   "metadata": {},
   "outputs": [],
   "source": [
    "# Create engine\n",
    "engine = sqlite3.connect(\"data.db\")\n",
    "# Create cursor\n",
    "cursor = engine.cursor()"
   ]
  },
  {
   "cell_type": "code",
   "execution_count": 3,
   "metadata": {},
   "outputs": [
    {
     "data": {
      "text/plain": [
       "<sqlite3.Cursor at 0x7f827bb25540>"
      ]
     },
     "execution_count": 3,
     "metadata": {},
     "output_type": "execute_result"
    }
   ],
   "source": [
    "# Create Table\n",
    "create_table_query = '''CREATE TABLE IF NOT EXISTS sportStars (\n",
    "   firstName varchar(40), \n",
    "   surname varchar(40),\n",
    "   monthBorn varchar(20),\n",
    "   yearOfBirth int,\n",
    "   sport varchar(30)\n",
    ");'''\n",
    "# Execute create table query\n",
    "cursor.execute(\n",
    "    create_table_query\n",
    ")"
   ]
  },
  {
   "cell_type": "code",
   "execution_count": 4,
   "metadata": {},
   "outputs": [],
   "source": [
    "# Create tuple to insert data\n",
    "tuple_to_insert = (\n",
    "    'INSERT INTO sportStars VALUES (\"Usain\", \"Bolt\", \"August\", 1986, \"Track and field\");',\n",
    "    'INSERT INTO sportStars VALUES (\"LeBron\", \"Jame\", \"December\", 1984, \"Basketball\");',\n",
    "    'INSERT INTO sportStars VALUES (\"Cristiano\", \"Ronaldo\", \"Feburary\", 1985, \"Football\");',\n",
    "    'INSERT INTO sportStars VALUES (\"Lionel\", \"Messi\", \"June\", 1987, \"Football\");',\n",
    "    'INSERT INTO sportStars VALUES (\"Tiger\", \"Woods\", \"December\", 1975, \"Golf\");',\n",
    "    'INSERT INTO sportStars VALUES (\"Serena\", \"Williams\", \"September\", 1981, \"Tennis\");',\n",
    "    'INSERT INTO sportStars VALUES (\"Michael\", \"Phelps\", \"June\", 1985, \"Swimming\");',\n",
    "    'INSERT INTO sportStars VALUES (\"Simone\", \"Biles\", \"March\", 1997, \"Gymnastics\");',\n",
    "    'INSERT INTO sportStars VALUES (\"Laura\", \"Muir\", \"May\", 1993, \"Track and field\");',\n",
    "    'INSERT INTO sportStars VALUES (\"Lucy\", \"Bronze\", \"October\", 1991, \"Football\");'\n",
    ")\n",
    "# Use for to insert data on the database\n",
    "for insert_query in tuple_to_insert :\n",
    "\n",
    "    cursor.execute(insert_query)"
   ]
  },
  {
   "attachments": {},
   "cell_type": "markdown",
   "metadata": {},
   "source": [
    "#### 1 - Adicionar mais 2 registros"
   ]
  },
  {
   "cell_type": "code",
   "execution_count": 5,
   "metadata": {},
   "outputs": [
    {
     "data": {
      "text/plain": [
       "[('Usain', 'Bolt', 'August', 1986, 'Track and field'),\n",
       " ('LeBron', 'Jame', 'December', 1984, 'Basketball'),\n",
       " ('Cristiano', 'Ronaldo', 'Feburary', 1985, 'Football'),\n",
       " ('Lionel', 'Messi', 'June', 1987, 'Football'),\n",
       " ('Tiger', 'Woods', 'December', 1975, 'Golf'),\n",
       " ('Serena', 'Williams', 'September', 1981, 'Tennis'),\n",
       " ('Michael', 'Phelps', 'June', 1985, 'Swimming'),\n",
       " ('Simone', 'Biles', 'March', 1997, 'Gymnastics'),\n",
       " ('Laura', 'Muir', 'May', 1993, 'Track and field'),\n",
       " ('Lucy', 'Bronze', 'October', 1991, 'Football'),\n",
       " ('Max', 'Holloway', 'August', 1986, 'MMA'),\n",
       " ('Anderson', 'Silva', 'March', 1974, 'Boxe')]"
      ]
     },
     "execution_count": 5,
     "metadata": {},
     "output_type": "execute_result"
    }
   ],
   "source": [
    "tuple_to_add_more_data = (\n",
    "    'INSERT INTO sportStars VALUES (\"Max\", \"Holloway\", \"August\", 1986, \"MMA\");',\n",
    "    'INSERT INTO sportStars VALUES (\"Anderson\", \"Silva\", \"March\", 1974, \"Boxe\");'\n",
    ")\n",
    "# Use for to insert data on the database\n",
    "for insert_query in tuple_to_add_more_data :\n",
    "\n",
    "    cursor.execute(insert_query)\n",
    "# Query to view data\n",
    "query_select = \"SELECT * FROM sportStars\"\n",
    "# Execute query\n",
    "cursor.execute(query_select).fetchall()"
   ]
  },
  {
   "attachments": {},
   "cell_type": "markdown",
   "metadata": {},
   "source": [
    "#### 2 - Verificar todas as colunas"
   ]
  },
  {
   "cell_type": "code",
   "execution_count": 6,
   "metadata": {},
   "outputs": [
    {
     "data": {
      "text/plain": [
       "[(0, 'firstName', 'varchar(40)', 0, None, 0),\n",
       " (1, 'surname', 'varchar(40)', 0, None, 0),\n",
       " (2, 'monthBorn', 'varchar(20)', 0, None, 0),\n",
       " (3, 'yearOfBirth', 'INT', 0, None, 0),\n",
       " (4, 'sport', 'varchar(30)', 0, None, 0)]"
      ]
     },
     "execution_count": 6,
     "metadata": {},
     "output_type": "execute_result"
    }
   ],
   "source": [
    "cursor.execute(f\"PRAGMA table_info( sportStars)\")\n",
    "columns = cursor.fetchall()\n",
    "columns"
   ]
  },
  {
   "attachments": {},
   "cell_type": "markdown",
   "metadata": {},
   "source": [
    "#### 3 - Executar uma consulta que mostre os registros que atendam a um filtro com o operador > (maior) na tabela sportStars"
   ]
  },
  {
   "cell_type": "code",
   "execution_count": 8,
   "metadata": {},
   "outputs": [
    {
     "data": {
      "text/plain": [
       "[('Simone', 'Biles', 'March', 1997, 'Gymnastics'),\n",
       " ('Laura', 'Muir', 'May', 1993, 'Track and field'),\n",
       " ('Lucy', 'Bronze', 'October', 1991, 'Football')]"
      ]
     },
     "execution_count": 8,
     "metadata": {},
     "output_type": "execute_result"
    }
   ],
   "source": [
    "query_major = '''\n",
    "    SELECT * FROM sportStars\n",
    "    WHERE yearOfBirth > 1987\n",
    "'''\n",
    "cursor.execute(query_major).fetchall()"
   ]
  },
  {
   "attachments": {},
   "cell_type": "markdown",
   "metadata": {},
   "source": [
    "#### 4 - Executar uma consulta que mostre os registros que atendam a um filtro com o operador >= (maior ou igual) na tabela sportStars"
   ]
  },
  {
   "cell_type": "code",
   "execution_count": 11,
   "metadata": {},
   "outputs": [
    {
     "data": {
      "text/plain": [
       "[('Lionel', 'Messi', 'June', 1987, 'Football'),\n",
       " ('Simone', 'Biles', 'March', 1997, 'Gymnastics'),\n",
       " ('Laura', 'Muir', 'May', 1993, 'Track and field'),\n",
       " ('Lucy', 'Bronze', 'October', 1991, 'Football')]"
      ]
     },
     "execution_count": 11,
     "metadata": {},
     "output_type": "execute_result"
    }
   ],
   "source": [
    "query_major_eq = '''\n",
    "    SELECT * FROM sportStars\n",
    "    WHERE yearOfBirth >= 1987\n",
    "'''\n",
    "cursor.execute(query_major_eq).fetchall()"
   ]
  },
  {
   "attachments": {},
   "cell_type": "markdown",
   "metadata": {},
   "source": [
    "#### 5 - Executar uma consulta que mostre os registros que atendam a um filtro com o operador < (menor) na tabela sportStars"
   ]
  },
  {
   "cell_type": "code",
   "execution_count": 12,
   "metadata": {},
   "outputs": [
    {
     "data": {
      "text/plain": [
       "[('Usain', 'Bolt', 'August', 1986, 'Track and field'),\n",
       " ('LeBron', 'Jame', 'December', 1984, 'Basketball'),\n",
       " ('Cristiano', 'Ronaldo', 'Feburary', 1985, 'Football'),\n",
       " ('Tiger', 'Woods', 'December', 1975, 'Golf'),\n",
       " ('Serena', 'Williams', 'September', 1981, 'Tennis'),\n",
       " ('Michael', 'Phelps', 'June', 1985, 'Swimming'),\n",
       " ('Max', 'Holloway', 'August', 1986, 'MMA'),\n",
       " ('Anderson', 'Silva', 'March', 1974, 'Boxe')]"
      ]
     },
     "execution_count": 12,
     "metadata": {},
     "output_type": "execute_result"
    }
   ],
   "source": [
    "query_minor = '''\n",
    "    SELECT * FROM sportStars\n",
    "    WHERE yearOfBirth < 1987\n",
    "'''\n",
    "cursor.execute(query_minor).fetchall()"
   ]
  },
  {
   "attachments": {},
   "cell_type": "markdown",
   "metadata": {},
   "source": [
    "#### 6 - Executar uma consulta que mostre os registros que atendam a um filtro com o operador <= (menor ou igual) na tabela sportStars"
   ]
  },
  {
   "cell_type": "code",
   "execution_count": 16,
   "metadata": {},
   "outputs": [
    {
     "data": {
      "text/plain": [
       "[('Tiger', 'Woods', 'December', 1975, 'Golf'),\n",
       " ('Anderson', 'Silva', 'March', 1974, 'Boxe')]"
      ]
     },
     "execution_count": 16,
     "metadata": {},
     "output_type": "execute_result"
    }
   ],
   "source": [
    "query_minor_eq = '''\n",
    "    SELECT * FROM sportStars\n",
    "    WHERE yearOfBirth <= 1975\n",
    "'''\n",
    "cursor.execute(query_minor_eq).fetchall()"
   ]
  },
  {
   "attachments": {},
   "cell_type": "markdown",
   "metadata": {},
   "source": [
    "#### 7 - Executar uma consulta que mostre os registros que atendam a um filtro com o operador = (igual) na tabela sportStars"
   ]
  },
  {
   "cell_type": "code",
   "execution_count": 21,
   "metadata": {},
   "outputs": [
    {
     "data": {
      "text/plain": [
       "[('Usain', 'Bolt', 'August', 1986, 'Track and field'),\n",
       " ('Laura', 'Muir', 'May', 1993, 'Track and field')]"
      ]
     },
     "execution_count": 21,
     "metadata": {},
     "output_type": "execute_result"
    }
   ],
   "source": [
    "query_equal = '''\n",
    "    SELECT * FROM sportStars\n",
    "    WHERE sport = 'Track and field'\n",
    "'''\n",
    "cursor.execute(query_equal).fetchall()"
   ]
  },
  {
   "attachments": {},
   "cell_type": "markdown",
   "metadata": {},
   "source": [
    "#### 8 - Executar uma consulta que mostre os registros que atendam a um filtro com o operador != (diferente) na tabela sportStars"
   ]
  },
  {
   "cell_type": "code",
   "execution_count": 22,
   "metadata": {},
   "outputs": [
    {
     "data": {
      "text/plain": [
       "[('Usain', 'Bolt', 'August', 1986, 'Track and field'),\n",
       " ('LeBron', 'Jame', 'December', 1984, 'Basketball'),\n",
       " ('Cristiano', 'Ronaldo', 'Feburary', 1985, 'Football'),\n",
       " ('Lionel', 'Messi', 'June', 1987, 'Football'),\n",
       " ('Serena', 'Williams', 'September', 1981, 'Tennis'),\n",
       " ('Michael', 'Phelps', 'June', 1985, 'Swimming'),\n",
       " ('Simone', 'Biles', 'March', 1997, 'Gymnastics'),\n",
       " ('Laura', 'Muir', 'May', 1993, 'Track and field'),\n",
       " ('Lucy', 'Bronze', 'October', 1991, 'Football'),\n",
       " ('Max', 'Holloway', 'August', 1986, 'MMA'),\n",
       " ('Anderson', 'Silva', 'March', 1974, 'Boxe')]"
      ]
     },
     "execution_count": 22,
     "metadata": {},
     "output_type": "execute_result"
    }
   ],
   "source": [
    "query_diff = '''\n",
    "    SELECT * FROM sportStars\n",
    "    WHERE sport != 'Golf'\n",
    "'''\n",
    "cursor.execute(query_diff).fetchall()"
   ]
  },
  {
   "attachments": {},
   "cell_type": "markdown",
   "metadata": {},
   "source": [
    "#### 9 - Executar uma consulta que mostre os registros que atendam a um filtro com o operador AND na tabela sportStars"
   ]
  },
  {
   "cell_type": "code",
   "execution_count": 26,
   "metadata": {},
   "outputs": [
    {
     "data": {
      "text/plain": [
       "[('Usain', 'Bolt', 'August', 1986, 'Track and field'),\n",
       " ('Max', 'Holloway', 'August', 1986, 'MMA')]"
      ]
     },
     "execution_count": 26,
     "metadata": {},
     "output_type": "execute_result"
    }
   ],
   "source": [
    "query_and = '''\n",
    "    SELECT * FROM sportStars\n",
    "    WHERE monthBorn = 'August' AND yearOfBirth >= 1985\n",
    "'''\n",
    "cursor.execute(query_and).fetchall()"
   ]
  },
  {
   "attachments": {},
   "cell_type": "markdown",
   "metadata": {},
   "source": [
    "#### 10 - Executar uma consulta que mostre os registros que atendam a um filtro com o operador OR na tabela sportStars\n"
   ]
  },
  {
   "cell_type": "code",
   "execution_count": 27,
   "metadata": {},
   "outputs": [
    {
     "data": {
      "text/plain": [
       "[('Usain', 'Bolt', 'August', 1986, 'Track and field'),\n",
       " ('Cristiano', 'Ronaldo', 'Feburary', 1985, 'Football'),\n",
       " ('Lionel', 'Messi', 'June', 1987, 'Football'),\n",
       " ('Michael', 'Phelps', 'June', 1985, 'Swimming'),\n",
       " ('Simone', 'Biles', 'March', 1997, 'Gymnastics'),\n",
       " ('Laura', 'Muir', 'May', 1993, 'Track and field'),\n",
       " ('Lucy', 'Bronze', 'October', 1991, 'Football'),\n",
       " ('Max', 'Holloway', 'August', 1986, 'MMA')]"
      ]
     },
     "execution_count": 27,
     "metadata": {},
     "output_type": "execute_result"
    }
   ],
   "source": [
    "query_or = '''\n",
    "    SELECT * FROM sportStars\n",
    "    WHERE monthBorn = 'January' OR yearOfBirth >= 1985\n",
    "'''\n",
    "cursor.execute(query_or).fetchall()"
   ]
  },
  {
   "attachments": {},
   "cell_type": "markdown",
   "metadata": {},
   "source": [
    "#### 11 - Executar uma consulta que mostre os registros que atendam a um filtro com o operador IN na tabela sportStars"
   ]
  },
  {
   "cell_type": "code",
   "execution_count": 30,
   "metadata": {},
   "outputs": [
    {
     "data": {
      "text/plain": [
       "[('Usain', 'Bolt', 'August', 1986, 'Track and field'),\n",
       " ('Simone', 'Biles', 'March', 1997, 'Gymnastics'),\n",
       " ('Max', 'Holloway', 'August', 1986, 'MMA'),\n",
       " ('Anderson', 'Silva', 'March', 1974, 'Boxe')]"
      ]
     },
     "execution_count": 30,
     "metadata": {},
     "output_type": "execute_result"
    }
   ],
   "source": [
    "query_in = '''\n",
    "    SELECT * FROM sportStars\n",
    "    WHERE monthBorn IN ('March', 'August')'''\n",
    "cursor.execute(query_in).fetchall()"
   ]
  },
  {
   "attachments": {},
   "cell_type": "markdown",
   "metadata": {},
   "source": [
    "#### 12 - Executar uma consulta que mostre os registros que atendam a um filtro com NOT IN na tabela sportStars"
   ]
  },
  {
   "cell_type": "code",
   "execution_count": 31,
   "metadata": {},
   "outputs": [
    {
     "data": {
      "text/plain": [
       "[('LeBron', 'Jame', 'December', 1984, 'Basketball'),\n",
       " ('Cristiano', 'Ronaldo', 'Feburary', 1985, 'Football'),\n",
       " ('Lionel', 'Messi', 'June', 1987, 'Football'),\n",
       " ('Tiger', 'Woods', 'December', 1975, 'Golf'),\n",
       " ('Serena', 'Williams', 'September', 1981, 'Tennis'),\n",
       " ('Michael', 'Phelps', 'June', 1985, 'Swimming'),\n",
       " ('Laura', 'Muir', 'May', 1993, 'Track and field'),\n",
       " ('Lucy', 'Bronze', 'October', 1991, 'Football')]"
      ]
     },
     "execution_count": 31,
     "metadata": {},
     "output_type": "execute_result"
    }
   ],
   "source": [
    "query_not_in = '''\n",
    "    SELECT * FROM sportStars\n",
    "    WHERE monthBorn NOT IN ('March', 'August')'''\n",
    "cursor.execute(query_not_in).fetchall()"
   ]
  },
  {
   "attachments": {},
   "cell_type": "markdown",
   "metadata": {},
   "source": [
    "#### 13 - Executar uma consulta que mostre os registros que atendam a um filtro com o BETWEEN na tabela sportStars"
   ]
  },
  {
   "cell_type": "code",
   "execution_count": 35,
   "metadata": {},
   "outputs": [
    {
     "data": {
      "text/plain": [
       "[('Usain', 'Bolt', 'August', 1986, 'Track and field'),\n",
       " ('LeBron', 'Jame', 'December', 1984, 'Basketball'),\n",
       " ('Cristiano', 'Ronaldo', 'Feburary', 1985, 'Football'),\n",
       " ('Tiger', 'Woods', 'December', 1975, 'Golf'),\n",
       " ('Serena', 'Williams', 'September', 1981, 'Tennis'),\n",
       " ('Michael', 'Phelps', 'June', 1985, 'Swimming'),\n",
       " ('Max', 'Holloway', 'August', 1986, 'MMA')]"
      ]
     },
     "execution_count": 35,
     "metadata": {},
     "output_type": "execute_result"
    }
   ],
   "source": [
    "query_btw = '''\n",
    "    SELECT * FROM sportStars\n",
    "    WHERE yearOfBirth BETWEEN 1975 AND 1986'''\n",
    "cursor.execute(query_btw).fetchall()"
   ]
  },
  {
   "attachments": {},
   "cell_type": "markdown",
   "metadata": {},
   "source": [
    "#### 14 - Executar uma consulta que mostre os registros que atendam a um filtro com o BETWEEN na tabela sportStars"
   ]
  },
  {
   "cell_type": "code",
   "execution_count": 37,
   "metadata": {},
   "outputs": [
    {
     "data": {
      "text/plain": [
       "[('Lionel', 'Messi', 'June', 1987, 'Football'),\n",
       " ('Simone', 'Biles', 'March', 1997, 'Gymnastics'),\n",
       " ('Laura', 'Muir', 'May', 1993, 'Track and field'),\n",
       " ('Lucy', 'Bronze', 'October', 1991, 'Football'),\n",
       " ('Anderson', 'Silva', 'March', 1974, 'Boxe')]"
      ]
     },
     "execution_count": 37,
     "metadata": {},
     "output_type": "execute_result"
    }
   ],
   "source": [
    "query_btw = '''\n",
    "    SELECT * FROM sportStars\n",
    "    WHERE yearOfBirth NOT BETWEEN 1975 AND 1986'''\n",
    "cursor.execute(query_btw).fetchall()"
   ]
  }
 ],
 "metadata": {
  "kernelspec": {
   "display_name": ".venv",
   "language": "python",
   "name": "python3"
  },
  "language_info": {
   "codemirror_mode": {
    "name": "ipython",
    "version": 3
   },
   "file_extension": ".py",
   "mimetype": "text/x-python",
   "name": "python",
   "nbconvert_exporter": "python",
   "pygments_lexer": "ipython3",
   "version": "3.10.6"
  },
  "orig_nbformat": 4
 },
 "nbformat": 4,
 "nbformat_minor": 2
}
