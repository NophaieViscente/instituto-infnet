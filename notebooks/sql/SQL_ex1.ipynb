{
 "cells": [
  {
   "cell_type": "code",
   "execution_count": 1,
   "metadata": {},
   "outputs": [],
   "source": [
    "import sqlite3"
   ]
  },
  {
   "cell_type": "code",
   "execution_count": 2,
   "metadata": {},
   "outputs": [],
   "source": [
    "# Create engine\n",
    "engine = sqlite3.connect(\"data.db\")\n",
    "# Create cursor\n",
    "cursor = engine.cursor()"
   ]
  },
  {
   "cell_type": "code",
   "execution_count": 3,
   "metadata": {},
   "outputs": [
    {
     "data": {
      "text/plain": [
       "<sqlite3.Cursor at 0x7f97ff7ccfc0>"
      ]
     },
     "execution_count": 3,
     "metadata": {},
     "output_type": "execute_result"
    }
   ],
   "source": [
    "# Create Table\n",
    "create_table_query = '''CREATE TABLE IF NOT EXISTS sportStars (\n",
    "   firstName varchar(40), \n",
    "   surname varchar(40),\n",
    "   monthBorn varchar(20),\n",
    "   yearOfBirth int,\n",
    "   sport varchar(30)\n",
    ");'''\n",
    "# Execute create table query\n",
    "cursor.execute(\n",
    "    create_table_query\n",
    ")"
   ]
  },
  {
   "cell_type": "code",
   "execution_count": 4,
   "metadata": {},
   "outputs": [],
   "source": [
    "# Create tuple to insert data\n",
    "tuple_to_insert = (\n",
    "    'INSERT INTO sportStars VALUES (\"Usain\", \"Bolt\", \"August\", 1986, \"Track and field\");',\n",
    "    'INSERT INTO sportStars VALUES (\"LeBron\", \"Jame\", \"December\", 1984, \"Basketball\");',\n",
    "    'INSERT INTO sportStars VALUES (\"Cristiano\", \"Ronaldo\", \"Feburary\", 1985, \"Football\");',\n",
    "    'INSERT INTO sportStars VALUES (\"Lionel\", \"Messi\", \"June\", 1987, \"Football\");',\n",
    "    'INSERT INTO sportStars VALUES (\"Tiger\", \"Woods\", \"December\", 1975, \"Golf\");',\n",
    "    'INSERT INTO sportStars VALUES (\"Serena\", \"Williams\", \"September\", 1981, \"Tennis\");',\n",
    "    'INSERT INTO sportStars VALUES (\"Michael\", \"Phelps\", \"June\", 1985, \"Swimming\");',\n",
    "    'INSERT INTO sportStars VALUES (\"Simone\", \"Biles\", \"March\", 1997, \"Gymnastics\");',\n",
    "    'INSERT INTO sportStars VALUES (\"Laura\", \"Muir\", \"May\", 1993, \"Track and field\");',\n",
    "    'INSERT INTO sportStars VALUES (\"Lucy\", \"Bronze\", \"October\", 1991, \"Football\");'\n",
    ")\n",
    "# Use for to insert data on the database\n",
    "for insert_query in tuple_to_insert :\n",
    "\n",
    "    cursor.execute(insert_query)"
   ]
  },
  {
   "attachments": {},
   "cell_type": "markdown",
   "metadata": {},
   "source": [
    "-- Adicionar mais 2 registros"
   ]
  },
  {
   "cell_type": "code",
   "execution_count": 5,
   "metadata": {},
   "outputs": [],
   "source": [
    "tuple_to_add_more_data = (\n",
    "    'INSERT INTO sportStars VALUES (\"Max\", \"Holloway\", \"August\", 1986, \"MMA\");',\n",
    "    'INSERT INTO sportStars VALUES (\"Anderson\", \"Silva\", \"March\", 1974, \"Boxe\");'\n",
    ")\n",
    "# Use for to insert data on the database\n",
    "for insert_query in tuple_to_add_more_data :\n",
    "\n",
    "    cursor.execute(insert_query)"
   ]
  },
  {
   "cell_type": "code",
   "execution_count": 6,
   "metadata": {},
   "outputs": [
    {
     "data": {
      "text/plain": [
       "[('Usain', 'Bolt', 'August', 1986, 'Track and field'),\n",
       " ('LeBron', 'Jame', 'December', 1984, 'Basketball'),\n",
       " ('Cristiano', 'Ronaldo', 'Feburary', 1985, 'Football'),\n",
       " ('Lionel', 'Messi', 'June', 1987, 'Football'),\n",
       " ('Tiger', 'Woods', 'December', 1975, 'Golf'),\n",
       " ('Serena', 'Williams', 'September', 1981, 'Tennis'),\n",
       " ('Michael', 'Phelps', 'June', 1985, 'Swimming'),\n",
       " ('Simone', 'Biles', 'March', 1997, 'Gymnastics'),\n",
       " ('Laura', 'Muir', 'May', 1993, 'Track and field'),\n",
       " ('Lucy', 'Bronze', 'October', 1991, 'Football'),\n",
       " ('Max', 'Holloway', 'August', 1986, 'MMA'),\n",
       " ('Anderson', 'Silva', 'March', 1974, 'Boxe')]"
      ]
     },
     "execution_count": 6,
     "metadata": {},
     "output_type": "execute_result"
    }
   ],
   "source": [
    "# Query to view data\n",
    "query_select = \"SELECT * FROM sportStars\"\n",
    "# Execute query\n",
    "cursor.execute(query_select).fetchall()"
   ]
  }
 ],
 "metadata": {
  "kernelspec": {
   "display_name": ".venv",
   "language": "python",
   "name": "python3"
  },
  "language_info": {
   "codemirror_mode": {
    "name": "ipython",
    "version": 3
   },
   "file_extension": ".py",
   "mimetype": "text/x-python",
   "name": "python",
   "nbconvert_exporter": "python",
   "pygments_lexer": "ipython3",
   "version": "3.10.6"
  },
  "orig_nbformat": 4
 },
 "nbformat": 4,
 "nbformat_minor": 2
}
