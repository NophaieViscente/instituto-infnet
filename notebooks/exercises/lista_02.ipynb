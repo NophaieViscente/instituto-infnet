{
 "cells": [
  {
   "cell_type": "code",
   "execution_count": 1,
   "metadata": {},
   "outputs": [],
   "source": [
    "import re\n",
    "from decouple import config"
   ]
  },
  {
   "cell_type": "code",
   "execution_count": 2,
   "metadata": {},
   "outputs": [],
   "source": [
    "DATA_PATH = config(\"DATA_PATH\")"
   ]
  },
  {
   "cell_type": "code",
   "execution_count": 3,
   "metadata": {},
   "outputs": [],
   "source": [
    "with open(f\"{DATA_PATH}/Alice.txt\") as file :\n",
    "    txt  = file.readlines()"
   ]
  },
  {
   "cell_type": "code",
   "execution_count": 3,
   "metadata": {},
   "outputs": [],
   "source": [
    "def clean_text (txt, pattern:str, pattern_numbers:str, pattern_underline:str) :\n",
    "    list_ = list()\n",
    "    for elem in txt :\n",
    "        elem = re.sub(pattern=pattern, repl=\"\", string=elem.strip())\n",
    "        if elem == '' :\n",
    "            continue\n",
    "        elem = re.sub(pattern_numbers,\"\", elem)\n",
    "        elem = re.sub(pattern_underline, \"\", elem)\n",
    "        list_.append(elem.strip())\n",
    "    \n",
    "    return list_"
   ]
  },
  {
   "cell_type": "code",
   "execution_count": 4,
   "metadata": {},
   "outputs": [],
   "source": [
    "lista_text = clean_text(txt=txt, pattern=r\"[^\\w\\s]\", pattern_numbers=r\"[0-9]+\", pattern_underline=r\"_+\")"
   ]
  },
  {
   "cell_type": "code",
   "execution_count": 5,
   "metadata": {},
   "outputs": [],
   "source": [
    "dict_ = dict()\n",
    "for phrase in lista_text : \n",
    "    for word in phrase.split() :\n",
    "        dict_[word.lower()] = dict_.get(word.lower(), 0) + 1\n"
   ]
  },
  {
   "cell_type": "code",
   "execution_count": 6,
   "metadata": {},
   "outputs": [],
   "source": [
    "qtd_app = dict(sorted(dict_.items(),  key = lambda x: x[1], reverse=True))"
   ]
  },
  {
   "cell_type": "code",
   "execution_count": 7,
   "metadata": {},
   "outputs": [],
   "source": [
    "total = sum(qtd_app.values())\n",
    "freq = dict()\n",
    "for k, v in qtd_app.items() :\n",
    "    freq[k] = {\"real\":round(v / total, 5), \"percentage\": f\"{v / total*100:.2f} %\"}"
   ]
  },
  {
   "cell_type": "code",
   "execution_count": 8,
   "metadata": {},
   "outputs": [],
   "source": [
    "# Preposições pra remover\n",
    "prep = [\"the\", \"that\", \"a\", \"and\", \"to\", \"of\", \"it\", \"in\"]"
   ]
  },
  {
   "cell_type": "code",
   "execution_count": 9,
   "metadata": {},
   "outputs": [],
   "source": [
    "cleaned_dict = dict()\n",
    "for k in freq :\n",
    "    if k in prep:\n",
    "        continue\n",
    "    cleaned_dict[k] = freq.get(k)"
   ]
  }
 ],
 "metadata": {
  "kernelspec": {
   "display_name": ".venv",
   "language": "python",
   "name": "python3"
  },
  "language_info": {
   "codemirror_mode": {
    "name": "ipython",
    "version": 3
   },
   "file_extension": ".py",
   "mimetype": "text/x-python",
   "name": "python",
   "nbconvert_exporter": "python",
   "pygments_lexer": "ipython3",
   "version": "3.10.6"
  },
  "orig_nbformat": 4
 },
 "nbformat": 4,
 "nbformat_minor": 2
}
