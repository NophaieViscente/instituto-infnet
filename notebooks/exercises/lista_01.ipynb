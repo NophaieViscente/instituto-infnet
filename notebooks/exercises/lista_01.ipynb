{
 "cells": [
  {
   "attachments": {},
   "cell_type": "markdown",
   "metadata": {},
   "source": [
    "#### Exercícios (FOR, IF, WHILE,DICTIONARY)\n",
    "1)Passe por todos os números até 99 (começando em 1). Imprima 'fizz' para cada número que é divisível por 7, imprima 'buzz' para cada número divisível por 5 e imprima 'fizzbuzz' para cada número divisível por 7 e 5! Se o número não for divisível por 7 ou 5, imprima um travessão (‘-‘)!\n",
    "\n",
    "Para descubrir se um número x é divisível por y use operador (%):\n",
    "\n",
    "(x % y) == 0  retorna True se x é divísel por y, False se não for. \n",
    "\n",
    "Dica : use FOR , IF, ELIF, ELSE"
   ]
  },
  {
   "cell_type": "code",
   "execution_count": 1,
   "metadata": {},
   "outputs": [
    {
     "name": "stdout",
     "output_type": "stream",
     "text": [
      "1 -\n",
      "2 -\n",
      "3 -\n",
      "4 -\n",
      "5 buzz\n",
      "6 -\n",
      "7 fizz\n",
      "8 -\n",
      "9 -\n",
      "10 buzz\n",
      "11 -\n",
      "12 -\n",
      "13 -\n",
      "14 fizz\n",
      "15 buzz\n",
      "16 -\n",
      "17 -\n",
      "18 -\n",
      "19 -\n",
      "20 buzz\n",
      "21 fizz\n",
      "22 -\n",
      "23 -\n",
      "24 -\n",
      "25 buzz\n",
      "26 -\n",
      "27 -\n",
      "28 fizz\n",
      "29 -\n",
      "30 buzz\n",
      "31 -\n",
      "32 -\n",
      "33 -\n",
      "34 -\n",
      "35 fizz\n",
      "36 -\n",
      "37 -\n",
      "38 -\n",
      "39 -\n",
      "40 buzz\n",
      "41 -\n",
      "42 fizz\n",
      "43 -\n",
      "44 -\n",
      "45 buzz\n",
      "46 -\n",
      "47 -\n",
      "48 -\n",
      "49 fizz\n",
      "50 buzz\n",
      "51 -\n",
      "52 -\n",
      "53 -\n",
      "54 -\n",
      "55 buzz\n",
      "56 fizz\n",
      "57 -\n",
      "58 -\n",
      "59 -\n",
      "60 buzz\n",
      "61 -\n",
      "62 -\n",
      "63 fizz\n",
      "64 -\n",
      "65 buzz\n",
      "66 -\n",
      "67 -\n",
      "68 -\n",
      "69 -\n",
      "70 fizz\n",
      "71 -\n",
      "72 -\n",
      "73 -\n",
      "74 -\n",
      "75 buzz\n",
      "76 -\n",
      "77 fizz\n",
      "78 -\n",
      "79 -\n",
      "80 buzz\n",
      "81 -\n",
      "82 -\n",
      "83 -\n",
      "84 fizz\n",
      "85 buzz\n",
      "86 -\n",
      "87 -\n",
      "88 -\n",
      "89 -\n",
      "90 buzz\n",
      "91 fizz\n",
      "92 -\n",
      "93 -\n",
      "94 -\n",
      "95 buzz\n",
      "96 -\n",
      "97 -\n",
      "98 fizz\n",
      "99 -\n"
     ]
    }
   ],
   "source": [
    "for i in range(1, 100) :\n",
    "\n",
    "    if i % 7 == 0 :\n",
    "        print(i, \"fizz\")\n",
    "    elif i % 7 == 0 and i % 5 == 0 :\n",
    "        print(i, \"fizzbuzz\")\n",
    "    elif i % 5 == 0 :\n",
    "        print(i, \"buzz\")\n",
    "    else :\n",
    "        print(i, \"-\")"
   ]
  },
  {
   "attachments": {},
   "cell_type": "markdown",
   "metadata": {},
   "source": [
    "#### Tarefas:\n",
    "\n",
    "Os filmes/séries podem ser classificados conforme o seu genero (ação,comédia, drama, terror etc). Considerando as classificações abaixo:\n",
    "\n",
    "a) Ação = Jumanji, Projeto Gemini,The old guard,WandaVision.\n",
    "\n",
    "b) Comédia = Jumanji,How I Met Your Mother,Friends, Amigos para sempre.\n",
    "\n",
    "c) Drama = Amigos para sempre, After,Game of Thrones, WandaVision.\n",
    "\n",
    "2.1 - Cria uma lista de listas para representar cada um dos conjuntos acima.\n",
    "\n",
    "2.2 - Usando a lista criada em 2.1, escreva um programa que \"print\" na tela a quantidade de caracteres de cada título."
   ]
  },
  {
   "cell_type": "code",
   "execution_count": 2,
   "metadata": {},
   "outputs": [],
   "source": [
    "acao = [\"Jumanji\", \"Projeto Gemini\",\"The old guard\",\"WandaVision\"]\n",
    "comedia = [\"Jumanji\",\"How I Met Your Mother\",\"Friends\", \"Amigos para sempre\"]\n",
    "drama = [\"Amigos para sempre\", \"After\",\"Game of Thrones\", \"WandaVision\"]"
   ]
  },
  {
   "cell_type": "code",
   "execution_count": 3,
   "metadata": {},
   "outputs": [
    {
     "name": "stdout",
     "output_type": "stream",
     "text": [
      "Jumanji - contém 7 caracteres.\n",
      "Projeto Gemini - contém 13 caracteres.\n",
      "The old guard - contém 11 caracteres.\n",
      "WandaVision - contém 11 caracteres.\n",
      "Jumanji - contém 7 caracteres.\n",
      "How I Met Your Mother - contém 17 caracteres.\n",
      "Friends - contém 7 caracteres.\n",
      "Amigos para sempre - contém 16 caracteres.\n",
      "Amigos para sempre - contém 16 caracteres.\n",
      "After - contém 5 caracteres.\n",
      "Game of Thrones - contém 13 caracteres.\n",
      "WandaVision - contém 11 caracteres.\n"
     ]
    }
   ],
   "source": [
    "for elem in [acao, comedia, drama] :\n",
    "\n",
    "    for film in elem :\n",
    "        print(f\"{film} - contém {len(''.join(film.split()))} caracteres.\")"
   ]
  },
  {
   "attachments": {},
   "cell_type": "markdown",
   "metadata": {},
   "source": [
    "Escreva um programa que calcule o fatorial de um número (entre com o número usando input). Sabendo que:\n",
    "a) n! = n(n-1)(n-2)...1\n",
    "\n",
    "b) 1! = 1\n",
    "\n",
    "c) 0! = 1\n",
    "\n",
    "Dica: Use While"
   ]
  },
  {
   "cell_type": "code",
   "execution_count": 4,
   "metadata": {},
   "outputs": [
    {
     "name": "stdout",
     "output_type": "stream",
     "text": [
      "120\n"
     ]
    }
   ],
   "source": [
    "num = int(input(\"Entre com o número para calcular seu fatorial!\"))\n",
    "cont = fat =  1\n",
    "if num == 1 or num == 0 :\n",
    "    fat = 1\n",
    "    print(f\"Fatorial é {fat}!\")\n",
    "while cont <= num :\n",
    "    fat *= cont\n",
    "    cont+=1    \n",
    "print(fat)\n"
   ]
  },
  {
   "attachments": {},
   "cell_type": "markdown",
   "metadata": {},
   "source": [
    "##### VARIAÇÃO"
   ]
  },
  {
   "cell_type": "code",
   "execution_count": 5,
   "metadata": {},
   "outputs": [
    {
     "name": "stdout",
     "output_type": "stream",
     "text": [
      "Fatorial de 5 é 120!\n"
     ]
    }
   ],
   "source": [
    "cont = fatorial = 1\n",
    "numero = input(\"Entre com o número para calcular seu fatorial!\")\n",
    "while not numero.isdigit() :\n",
    "    print(\"Digite o número para a entrada!\")\n",
    "    numero = input(\"Entre com o número para calcular seu fatorial!\")\n",
    "numero = int(numero)\n",
    "if numero == 1 or numero == 0 :\n",
    "    print(f\"Fatorial é {fatorial}!\")\n",
    "while cont <= numero :\n",
    "    fatorial *= cont\n",
    "    cont +=1\n",
    "print(f\"Fatorial de {numero} é {fatorial}!\")"
   ]
  },
  {
   "attachments": {},
   "cell_type": "markdown",
   "metadata": {},
   "source": [
    "#### Desafio\n",
    "\n",
    "Considerando o problema 2.\n",
    "\n",
    "4.1) Crie um dicionário no qual cada chave representa o genero do filme;\n",
    "\n",
    "4.2) Em um sistema de recomendação baseado em conteúdos, deseja-se saber as classificações (generos) de cada filme. Faça um programa que usando o dicionário criado em 4.1, retorne os generos associados a cada filme. (Dica: use um outro dicionário).\n",
    "\n"
   ]
  },
  {
   "cell_type": "code",
   "execution_count": 6,
   "metadata": {},
   "outputs": [],
   "source": [
    "list_genres = [acao, comedia, drama]"
   ]
  },
  {
   "cell_type": "code",
   "execution_count": 7,
   "metadata": {},
   "outputs": [
    {
     "data": {
      "text/plain": [
       "{'acao': ['Jumanji', 'Projeto Gemini', 'The old guard', 'WandaVision'],\n",
       " 'comedia': ['Jumanji',\n",
       "  'How I Met Your Mother',\n",
       "  'Friends',\n",
       "  'Amigos para sempre'],\n",
       " 'drama': ['Amigos para sempre', 'After', 'Game of Thrones', 'WandaVision']}"
      ]
     },
     "execution_count": 7,
     "metadata": {},
     "output_type": "execute_result"
    }
   ],
   "source": [
    "dict_films = dict()\n",
    "for index, elem in enumerate(list_genres) :\n",
    "    if index == 0 :\n",
    "        dict_films[\"acao\"] = elem\n",
    "    elif index == 1 :\n",
    "        dict_films[\"comedia\"] = elem\n",
    "    else :\n",
    "        dict_films[\"drama\"] = elem\n",
    "dict_films\n",
    "    "
   ]
  },
  {
   "attachments": {},
   "cell_type": "markdown",
   "metadata": {},
   "source": [
    "#### VARIAÇÃO"
   ]
  },
  {
   "cell_type": "code",
   "execution_count": 8,
   "metadata": {},
   "outputs": [
    {
     "data": {
      "text/plain": [
       "{'Ação': ['Jumanji', 'Projeto Gemini', 'The old guard', 'WandaVision'],\n",
       " 'Comédia': ['Jumanji',\n",
       "  'How I Met Your Mother',\n",
       "  'Friends',\n",
       "  'Amigos para sempre'],\n",
       " 'Drama': ['Amigos para sempre', 'After', 'Game of Thrones', 'WandaVision']}"
      ]
     },
     "execution_count": 8,
     "metadata": {},
     "output_type": "execute_result"
    }
   ],
   "source": [
    "#### 4.1 ####\n",
    "str_ = '''Ação = Jumanji, Projeto Gemini,The old guard,WandaVision. Comédia = Jumanji,How I Met Your Mother,Friends, Amigos para sempre. Drama = Amigos para sempre, After,Game of Thrones, WandaVision.'''\n",
    "dict_filmes = dict()\n",
    "for elem in str_.split(\".\") :\n",
    "    if elem == '' :\n",
    "        continue\n",
    "    key = elem.split(\" = \")[0]\n",
    "    elem = elem.replace(key + \" = \", '')\n",
    "    dict_filmes[key.strip()] = [x.strip() for x in elem.split(',')]\n",
    "\n",
    "dict_filmes"
   ]
  },
  {
   "cell_type": "code",
   "execution_count": 10,
   "metadata": {},
   "outputs": [],
   "source": [
    "#### 4.2 ####\n",
    "film_name = input(\"Entre com o nome do filme, para verificar seu gênero: \")\n",
    "normalized_name = film_name.lower()\n",
    "\n",
    "dict_ = dict()\n",
    "for genre, list_names in dict_filmes.items() :\n",
    "\n",
    "    for name in list_names:\n",
    "        if name.lower() == normalized_name :\n",
    "            dict_.setdefault(film_name, {\"genre\": []})\n",
    "            dict_[film_name][\"genre\"].append(genre)"
   ]
  },
  {
   "cell_type": "code",
   "execution_count": 33,
   "metadata": {},
   "outputs": [],
   "source": [
    "#### Variação ####\n",
    "\n",
    "def busca_filmes_detalhados (dict_filmes:dict) :\n",
    "\n",
    "    option = 0\n",
    "    while option not in [1,2] :\n",
    "        option = input(\"Entre com uma opção válida: [1 - Gênero | 2 - Nome do Filme] \")\n",
    "        if option.isdigit() :\n",
    "            option = int(option)\n",
    "    \n",
    "    if option == 1 :\n",
    "        print(\"Entre com a opção do gênero que deseja mostrar os filmes\")\n",
    "        print(\n",
    "            '''\n",
    "            1 - Ação\n",
    "            2 - Comédia\n",
    "            3 - Drama\n",
    "            '''\n",
    "        )\n",
    "        genre = 0\n",
    "        while genre not in [1,2,3] :\n",
    "            genre = input(\"Digite a opção para o gênero: \")\n",
    "            if genre.isdigit() :\n",
    "                genre = int(genre)\n",
    "        \n",
    "        if genre == 1 :\n",
    "            return dict_filmes[\"Ação\"]\n",
    "        elif genre == 2 :\n",
    "            return dict_filmes[\"Comédia\"]\n",
    "        else : \n",
    "            return dict_filmes[\"Drama\"]\n",
    "\n",
    "    else :\n",
    "        dict_genres = dict()\n",
    "        film_name = input(\"Entre com o nome do filme, para verificar seu gênero: \")\n",
    "        for genre, list_films in dict_filmes.items() :\n",
    "\n",
    "            for name_film in list_films :\n",
    "                if film_name.lower() == name_film.lower() :\n",
    "                    dict_genres.setdefault(film_name, {\"genre\": []})\n",
    "                    dict_genres[film_name][\"genre\"].append(genre)\n",
    "        \n",
    "        return {film_name : dict_genres.get(film_name, \"Filme não existe na Base!\") }\n",
    "            \n",
    "\n",
    "    "
   ]
  },
  {
   "cell_type": "code",
   "execution_count": 34,
   "metadata": {},
   "outputs": [
    {
     "name": "stdout",
     "output_type": "stream",
     "text": [
      "Entre com a opção do gênero que deseja mostrar os filmes\n",
      "\n",
      "            1 - Ação\n",
      "            2 - Comédia\n",
      "            3 - Drama\n",
      "            \n"
     ]
    },
    {
     "data": {
      "text/plain": [
       "['Jumanji', 'How I Met Your Mother', 'Friends', 'Amigos para sempre']"
      ]
     },
     "execution_count": 34,
     "metadata": {},
     "output_type": "execute_result"
    }
   ],
   "source": [
    "busca_filmes_detalhados(dict_filmes=dict_filmes)"
   ]
  }
 ],
 "metadata": {
  "kernelspec": {
   "display_name": "Python 3",
   "language": "python",
   "name": "python3"
  },
  "language_info": {
   "codemirror_mode": {
    "name": "ipython",
    "version": 3
   },
   "file_extension": ".py",
   "mimetype": "text/x-python",
   "name": "python",
   "nbconvert_exporter": "python",
   "pygments_lexer": "ipython3",
   "version": "3.10.6"
  },
  "orig_nbformat": 4
 },
 "nbformat": 4,
 "nbformat_minor": 2
}
