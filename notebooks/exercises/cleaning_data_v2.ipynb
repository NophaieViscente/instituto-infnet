{
 "cells": [
  {
   "cell_type": "code",
   "execution_count": 1,
   "metadata": {},
   "outputs": [],
   "source": [
    "import pandas as pd\n",
    "from decouple import config\n",
    "import re"
   ]
  },
  {
   "cell_type": "code",
   "execution_count": 2,
   "metadata": {},
   "outputs": [],
   "source": [
    "DATA_PATH = config(\"DATA_PATH\")"
   ]
  },
  {
   "cell_type": "code",
   "execution_count": 3,
   "metadata": {},
   "outputs": [],
   "source": [
    "df_tmp = pd.read_csv(filepath_or_buffer=f\"{DATA_PATH}/csv/spotify.csv\", index_col=\"Unnamed: 0\")"
   ]
  },
  {
   "cell_type": "code",
   "execution_count": 4,
   "metadata": {},
   "outputs": [
    {
     "name": "stdout",
     "output_type": "stream",
     "text": [
      "<class 'pandas.core.frame.DataFrame'>\n",
      "Index: 18835 entries, 0 to 18834\n",
      "Data columns (total 15 columns):\n",
      " #   Column            Non-Null Count  Dtype  \n",
      "---  ------            --------------  -----  \n",
      " 0   song_name         18835 non-null  object \n",
      " 1   song_popularity   18835 non-null  object \n",
      " 2   song_duration_ms  18835 non-null  object \n",
      " 3   acousticness      18835 non-null  object \n",
      " 4   danceability      18835 non-null  object \n",
      " 5   energy            18835 non-null  object \n",
      " 6   instrumentalness  18835 non-null  object \n",
      " 7   key               18835 non-null  float64\n",
      " 8   liveness          18835 non-null  object \n",
      " 9   loudness          18835 non-null  object \n",
      " 10  audio_mode        18835 non-null  object \n",
      " 11  speechiness       18835 non-null  object \n",
      " 12  tempo             18835 non-null  object \n",
      " 13  time_signature    18835 non-null  object \n",
      " 14  audio_valence     18834 non-null  float64\n",
      "dtypes: float64(2), object(13)\n",
      "memory usage: 2.3+ MB\n"
     ]
    }
   ],
   "source": [
    "df_tmp.info()"
   ]
  },
  {
   "cell_type": "code",
   "execution_count": 5,
   "metadata": {},
   "outputs": [
    {
     "name": "stdout",
     "output_type": "stream",
     "text": [
      "                key  audio_valence\n",
      "count  18835.000000   18834.000000\n",
      "mean       5.288674       0.527958\n",
      "std        3.614624       0.244635\n",
      "min        0.000000       0.000000\n",
      "25%        2.000000       0.335000\n",
      "50%        5.000000       0.526500\n",
      "75%        8.000000       0.725000\n",
      "max       11.000000       0.984000\n"
     ]
    },
    {
     "data": {
      "text/plain": [
       "<Axes: >"
      ]
     },
     "execution_count": 5,
     "metadata": {},
     "output_type": "execute_result"
    },
    {
     "data": {
      "image/png": "[encoded data removed]",
      "text/plain": [
       "<Figure size 640x480 with 1 Axes>"
      ]
     },
     "metadata": {},
     "output_type": "display_data"
    }
   ],
   "source": [
    "print(df_tmp.describe())\n",
    "df_tmp.boxplot()"
   ]
  },
  {
   "cell_type": "code",
   "execution_count": 6,
   "metadata": {},
   "outputs": [
    {
     "data": {
      "text/html": [
       "<div>\n",
       "<style scoped>\n",
       "    .dataframe tbody tr th:only-of-type {\n",
       "        vertical-align: middle;\n",
       "    }\n",
       "\n",
       "    .dataframe tbody tr th {\n",
       "        vertical-align: top;\n",
       "    }\n",
       "\n",
       "    .dataframe thead th {\n",
       "        text-align: right;\n",
       "    }\n",
       "</style>\n",
       "<table border=\"1\" class=\"dataframe\">\n",
       "  <thead>\n",
       "    <tr style=\"text-align: right;\">\n",
       "      <th></th>\n",
       "      <th>song_name</th>\n",
       "      <th>song_popularity</th>\n",
       "      <th>song_duration_ms</th>\n",
       "      <th>acousticness</th>\n",
       "      <th>danceability</th>\n",
       "      <th>energy</th>\n",
       "      <th>instrumentalness</th>\n",
       "      <th>key</th>\n",
       "      <th>liveness</th>\n",
       "      <th>loudness</th>\n",
       "      <th>audio_mode</th>\n",
       "      <th>speechiness</th>\n",
       "      <th>tempo</th>\n",
       "      <th>time_signature</th>\n",
       "      <th>audio_valence</th>\n",
       "    </tr>\n",
       "  </thead>\n",
       "  <tbody>\n",
       "    <tr>\n",
       "      <th>0</th>\n",
       "      <td>Boulevard of Broken Dreams</td>\n",
       "      <td>73</td>\n",
       "      <td>262333</td>\n",
       "      <td>0.005520000000000001kg</td>\n",
       "      <td>0.496mol/L</td>\n",
       "      <td>0.682</td>\n",
       "      <td>2.94e-05</td>\n",
       "      <td>8.0</td>\n",
       "      <td>0.0589</td>\n",
       "      <td>-4.095</td>\n",
       "      <td>1</td>\n",
       "      <td>0.0294</td>\n",
       "      <td>167.06</td>\n",
       "      <td>4</td>\n",
       "      <td>0.474</td>\n",
       "    </tr>\n",
       "    <tr>\n",
       "      <th>1</th>\n",
       "      <td>In The End</td>\n",
       "      <td>66</td>\n",
       "      <td>216933</td>\n",
       "      <td>0.0103kg</td>\n",
       "      <td>0.542mol/L</td>\n",
       "      <td>0.853</td>\n",
       "      <td>0.0</td>\n",
       "      <td>3.0</td>\n",
       "      <td>0.108</td>\n",
       "      <td>-6.407</td>\n",
       "      <td>0</td>\n",
       "      <td>0.0498</td>\n",
       "      <td>105.256</td>\n",
       "      <td>4</td>\n",
       "      <td>0.370</td>\n",
       "    </tr>\n",
       "    <tr>\n",
       "      <th>2</th>\n",
       "      <td>Seven Nation Army</td>\n",
       "      <td>76</td>\n",
       "      <td>231733</td>\n",
       "      <td>0.00817kg</td>\n",
       "      <td>0.737mol/L</td>\n",
       "      <td>0.463</td>\n",
       "      <td>0.447</td>\n",
       "      <td>0.0</td>\n",
       "      <td>0.255</td>\n",
       "      <td>-7.8279999999999985</td>\n",
       "      <td>1</td>\n",
       "      <td>0.0792</td>\n",
       "      <td>123.881</td>\n",
       "      <td>4</td>\n",
       "      <td>0.324</td>\n",
       "    </tr>\n",
       "    <tr>\n",
       "      <th>3</th>\n",
       "      <td>By The Way</td>\n",
       "      <td>74</td>\n",
       "      <td>216933</td>\n",
       "      <td>0.0264kg</td>\n",
       "      <td>0.451mol/L</td>\n",
       "      <td>0.97</td>\n",
       "      <td>0.00355</td>\n",
       "      <td>0.0</td>\n",
       "      <td>0.102</td>\n",
       "      <td>-4.938</td>\n",
       "      <td>1</td>\n",
       "      <td>0.107</td>\n",
       "      <td>122.444</td>\n",
       "      <td>4</td>\n",
       "      <td>0.198</td>\n",
       "    </tr>\n",
       "    <tr>\n",
       "      <th>4</th>\n",
       "      <td>How You Remind Me</td>\n",
       "      <td>56</td>\n",
       "      <td>223826</td>\n",
       "      <td>0.000954kg</td>\n",
       "      <td>0.447mol/L</td>\n",
       "      <td>0.7659999999999999</td>\n",
       "      <td>0.0</td>\n",
       "      <td>10.0</td>\n",
       "      <td>0.113</td>\n",
       "      <td>-5.065</td>\n",
       "      <td>1</td>\n",
       "      <td>0.0313</td>\n",
       "      <td>172.011</td>\n",
       "      <td>4</td>\n",
       "      <td>0.574</td>\n",
       "    </tr>\n",
       "    <tr>\n",
       "      <th>...</th>\n",
       "      <td>...</td>\n",
       "      <td>...</td>\n",
       "      <td>...</td>\n",
       "      <td>...</td>\n",
       "      <td>...</td>\n",
       "      <td>...</td>\n",
       "      <td>...</td>\n",
       "      <td>...</td>\n",
       "      <td>...</td>\n",
       "      <td>...</td>\n",
       "      <td>...</td>\n",
       "      <td>...</td>\n",
       "      <td>...</td>\n",
       "      <td>...</td>\n",
       "      <td>...</td>\n",
       "    </tr>\n",
       "    <tr>\n",
       "      <th>18830</th>\n",
       "      <td>Let It Breathe</td>\n",
       "      <td>60</td>\n",
       "      <td>159645</td>\n",
       "      <td>0.893kg</td>\n",
       "      <td>0.5mol/L</td>\n",
       "      <td>0.151</td>\n",
       "      <td>6.54e-05</td>\n",
       "      <td>11.0</td>\n",
       "      <td>0.111</td>\n",
       "      <td>-16.107</td>\n",
       "      <td>1</td>\n",
       "      <td>0.0348</td>\n",
       "      <td>113.969</td>\n",
       "      <td>4</td>\n",
       "      <td>0.300</td>\n",
       "    </tr>\n",
       "    <tr>\n",
       "      <th>18831</th>\n",
       "      <td>Answers</td>\n",
       "      <td>60</td>\n",
       "      <td>205666</td>\n",
       "      <td>0.765kg</td>\n",
       "      <td>0.495mol/L</td>\n",
       "      <td>0.161</td>\n",
       "      <td>1.33e-06</td>\n",
       "      <td>11.0</td>\n",
       "      <td>0.105</td>\n",
       "      <td>-14.078</td>\n",
       "      <td>0</td>\n",
       "      <td>0.0301</td>\n",
       "      <td>94.286</td>\n",
       "      <td>4</td>\n",
       "      <td>0.265</td>\n",
       "    </tr>\n",
       "    <tr>\n",
       "      <th>18832</th>\n",
       "      <td>Sudden Love (Acoustic)</td>\n",
       "      <td>23</td>\n",
       "      <td>182211</td>\n",
       "      <td>0.847kg</td>\n",
       "      <td>0.7190000000000001mol/L</td>\n",
       "      <td>0.325</td>\n",
       "      <td>0.0</td>\n",
       "      <td>0.0</td>\n",
       "      <td>0.125</td>\n",
       "      <td>-12.222</td>\n",
       "      <td>1</td>\n",
       "      <td>0.0355</td>\n",
       "      <td>130.534</td>\n",
       "      <td>4</td>\n",
       "      <td>0.286</td>\n",
       "    </tr>\n",
       "    <tr>\n",
       "      <th>18833</th>\n",
       "      <td>Gentle on My Mind</td>\n",
       "      <td>55</td>\n",
       "      <td>352280</td>\n",
       "      <td>0.945kg</td>\n",
       "      <td>0.488mol/L</td>\n",
       "      <td>0.326</td>\n",
       "      <td>0.0157</td>\n",
       "      <td>3.0</td>\n",
       "      <td>0.119</td>\n",
       "      <td>-12.02</td>\n",
       "      <td>1</td>\n",
       "      <td>0.0328</td>\n",
       "      <td>106.063</td>\n",
       "      <td>4</td>\n",
       "      <td>0.323</td>\n",
       "    </tr>\n",
       "    <tr>\n",
       "      <th>18834</th>\n",
       "      <td>Up to Me</td>\n",
       "      <td>60</td>\n",
       "      <td>193533</td>\n",
       "      <td>0.911kg</td>\n",
       "      <td>0.64mol/L</td>\n",
       "      <td>0.381</td>\n",
       "      <td>0.000254</td>\n",
       "      <td>4.0</td>\n",
       "      <td>0.104</td>\n",
       "      <td>-11.79</td>\n",
       "      <td>1</td>\n",
       "      <td>0.0302</td>\n",
       "      <td>91.49</td>\n",
       "      <td>4</td>\n",
       "      <td>0.581</td>\n",
       "    </tr>\n",
       "  </tbody>\n",
       "</table>\n",
       "<p>18835 rows × 15 columns</p>\n",
       "</div>"
      ],
      "text/plain": [
       "                        song_name song_popularity song_duration_ms  \\\n",
       "0      Boulevard of Broken Dreams              73           262333   \n",
       "1                      In The End              66           216933   \n",
       "2               Seven Nation Army              76           231733   \n",
       "3                      By The Way              74           216933   \n",
       "4               How You Remind Me              56           223826   \n",
       "...                           ...             ...              ...   \n",
       "18830              Let It Breathe              60           159645   \n",
       "18831                     Answers              60           205666   \n",
       "18832      Sudden Love (Acoustic)              23           182211   \n",
       "18833           Gentle on My Mind              55           352280   \n",
       "18834                    Up to Me              60           193533   \n",
       "\n",
       "                 acousticness             danceability              energy  \\\n",
       "0      0.005520000000000001kg               0.496mol/L               0.682   \n",
       "1                    0.0103kg               0.542mol/L               0.853   \n",
       "2                   0.00817kg               0.737mol/L               0.463   \n",
       "3                    0.0264kg               0.451mol/L                0.97   \n",
       "4                  0.000954kg               0.447mol/L  0.7659999999999999   \n",
       "...                       ...                      ...                 ...   \n",
       "18830                 0.893kg                 0.5mol/L               0.151   \n",
       "18831                 0.765kg               0.495mol/L               0.161   \n",
       "18832                 0.847kg  0.7190000000000001mol/L               0.325   \n",
       "18833                 0.945kg               0.488mol/L               0.326   \n",
       "18834                 0.911kg                0.64mol/L               0.381   \n",
       "\n",
       "      instrumentalness   key liveness             loudness audio_mode  \\\n",
       "0             2.94e-05   8.0   0.0589               -4.095          1   \n",
       "1                  0.0   3.0    0.108               -6.407          0   \n",
       "2                0.447   0.0    0.255  -7.8279999999999985          1   \n",
       "3              0.00355   0.0    0.102               -4.938          1   \n",
       "4                  0.0  10.0    0.113               -5.065          1   \n",
       "...                ...   ...      ...                  ...        ...   \n",
       "18830         6.54e-05  11.0    0.111              -16.107          1   \n",
       "18831         1.33e-06  11.0    0.105              -14.078          0   \n",
       "18832              0.0   0.0    0.125              -12.222          1   \n",
       "18833           0.0157   3.0    0.119               -12.02          1   \n",
       "18834         0.000254   4.0    0.104               -11.79          1   \n",
       "\n",
       "      speechiness    tempo time_signature  audio_valence  \n",
       "0          0.0294   167.06              4          0.474  \n",
       "1          0.0498  105.256              4          0.370  \n",
       "2          0.0792  123.881              4          0.324  \n",
       "3           0.107  122.444              4          0.198  \n",
       "4          0.0313  172.011              4          0.574  \n",
       "...           ...      ...            ...            ...  \n",
       "18830      0.0348  113.969              4          0.300  \n",
       "18831      0.0301   94.286              4          0.265  \n",
       "18832      0.0355  130.534              4          0.286  \n",
       "18833      0.0328  106.063              4          0.323  \n",
       "18834      0.0302    91.49              4          0.581  \n",
       "\n",
       "[18835 rows x 15 columns]"
      ]
     },
     "execution_count": 6,
     "metadata": {},
     "output_type": "execute_result"
    }
   ],
   "source": [
    "df_tmp"
   ]
  },
  {
   "cell_type": "code",
   "execution_count": 7,
   "metadata": {},
   "outputs": [],
   "source": [
    "str_ = \"0.005520000000000001kg\""
   ]
  },
  {
   "cell_type": "code",
   "execution_count": 8,
   "metadata": {},
   "outputs": [],
   "source": [
    "# Regex para reconhecer entradas no formato do cpf\n",
    "cpf = \"047.564789-00\"\n",
    "pattern_cpf = r\"([0-9]){3}.([0-9]){3}.([0-9]){3}-([0-9]){2}\""
   ]
  },
  {
   "cell_type": "code",
   "execution_count": 9,
   "metadata": {},
   "outputs": [],
   "source": [
    "# Padrão para ficar somente com números e pontos\n",
    "pattern = r\"[^0-9.]\""
   ]
  },
  {
   "cell_type": "code",
   "execution_count": 10,
   "metadata": {},
   "outputs": [],
   "source": [
    "def cleaning_string (string:str, pattern:re) : \n",
    "    \n",
    "    return float(re.sub(pattern=pattern, repl=\"\", string=string))\n",
    "    "
   ]
  },
  {
   "cell_type": "code",
   "execution_count": 11,
   "metadata": {},
   "outputs": [],
   "source": [
    "df_tmp[\"acousticness\"] = df_tmp[\"acousticness\"].apply(lambda x: cleaning_string(string=x, pattern=pattern))"
   ]
  },
  {
   "cell_type": "code",
   "execution_count": 12,
   "metadata": {},
   "outputs": [],
   "source": [
    "df_tmp[\"danceability\"] = df_tmp[\"danceability\"].apply(lambda x: cleaning_string(string=x, pattern=pattern))"
   ]
  },
  {
   "cell_type": "code",
   "execution_count": 13,
   "metadata": {},
   "outputs": [],
   "source": [
    "str_ = \"2.94e-05\""
   ]
  },
  {
   "cell_type": "code",
   "execution_count": 14,
   "metadata": {},
   "outputs": [],
   "source": [
    "pattern_expo = r\"([0-9]).([0-9]){2}e-([0-9]+)\""
   ]
  },
  {
   "cell_type": "code",
   "execution_count": 15,
   "metadata": {},
   "outputs": [],
   "source": [
    "def cleaning_string (string:str, pattern:re, replace:bool=True, **kwargs) : \n",
    "    \n",
    "    if replace:\n",
    "        return re.sub(pattern=pattern, repl=\"\", string=string)\n",
    "    else:\n",
    "        if re.match(pattern=pattern, string=string) :\n",
    "            return kwargs[\"type_to_cast\"](string)\n",
    "        else :\n",
    "            try : \n",
    "                return float(string)\n",
    "            except:\n",
    "                print(string)\n",
    "                return 0"
   ]
  },
  {
   "cell_type": "code",
   "execution_count": 16,
   "metadata": {},
   "outputs": [
    {
     "data": {
      "text/plain": [
       "2.94e-05"
      ]
     },
     "execution_count": 16,
     "metadata": {},
     "output_type": "execute_result"
    }
   ],
   "source": [
    "str_ = \"2.94e-05\"\n",
    "\n",
    "cleaning_string(string=str_, pattern=pattern_expo, type_to_cast=float, replace=False)"
   ]
  },
  {
   "cell_type": "code",
   "execution_count": 17,
   "metadata": {},
   "outputs": [
    {
     "name": "stdout",
     "output_type": "stream",
     "text": [
      "nao_sei\n",
      "nao_sei\n"
     ]
    }
   ],
   "source": [
    "df_tmp[\"instrumentalness\"] = df_tmp[\"instrumentalness\"].apply( \n",
    "    lambda x: cleaning_string(string=x, pattern=pattern_expo, replace=False, type_to_cast=float))"
   ]
  }
 ],
 "metadata": {
  "kernelspec": {
   "display_name": ".venv",
   "language": "python",
   "name": "python3"
  },
  "language_info": {
   "codemirror_mode": {
    "name": "ipython",
    "version": 3
   },
   "file_extension": ".py",
   "mimetype": "text/x-python",
   "name": "python",
   "nbconvert_exporter": "python",
   "pygments_lexer": "ipython3",
   "version": "3.10.6"
  },
  "orig_nbformat": 4
 },
 "nbformat": 4,
 "nbformat_minor": 2
}
